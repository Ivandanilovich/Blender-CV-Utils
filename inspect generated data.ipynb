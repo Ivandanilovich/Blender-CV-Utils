{
 "cells": [
  {
   "cell_type": "code",
   "execution_count": null,
   "metadata": {},
   "outputs": [],
   "source": [
    "import pickle\n",
    "import plotly.express as px\n",
    "import numpy as np\n",
    "import cv2\n",
    "import json\n",
    "from tqdm.notebook import tqdm\n",
    "import einops\n",
    "import matplotlib.pyplot as plt\n",
    "from pathlib import Path\n",
    "import os\n",
    "from skimage.measure import find_contours\n",
    "from visualization_utils.visualization import draw_on_image\n",
    "\n",
    "from blender_cv_utils.projection_camera import apply_object_matrix_world, project_points"
   ]
  },
  {
   "cell_type": "code",
   "execution_count": null,
   "metadata": {},
   "outputs": [],
   "source": [
    "path = 'C:/Users/ivand/Desktop/output_temp/default/'\n",
    "\n",
    "global_params = json.load(open(os.path.join(path, 'global_params.json'), 'r'))\n",
    "\n",
    "all_data = []\n",
    "for n, annot_path in tqdm(enumerate(sorted(Path(path).rglob('annots_frame*.json')))):\n",
    "     im = cv2.imread(os.path.join(path, f'Camera_{n+1:04}.png'))\n",
    "     data = json.load(\n",
    "         open(os.path.join(path, f'annots_frame{n+1:04}.json'), 'r'))\n",
    "     data['Camera'].update(global_params)\n",
    "\n",
    "     objects_data = {}\n",
    "     for index, i in enumerate(['Armature', 'Armature.001']):\n",
    "          skeleton = []\n",
    "          for name, bone in data[i]['pose'].items():\n",
    "              if name in ['Bone.012.R.001', 'Bone.012.L.001', 'Bone.008.R.001', 'Bone.008.L.001', 'Bone.020']:  # IK bones\n",
    "                  continue\n",
    "              points = np.stack([np.array(bone['head']), np.array(bone['tail'])])\n",
    "              points = apply_object_matrix_world(points, data[i]['matrix_world'])\n",
    "              points = project_points(points, **data['Camera']).numpy()\n",
    "              skeleton.append(points)\n",
    "\n",
    "          mesh = data[data[i]['childrens'][0]]\n",
    "          mask = plt.imread(os.path.join(path, mesh[\"name\"], f'Camera_{n+1:04}.png'))[:, :, 3]\n",
    "          xraymask = plt.imread(os.path.join(path, mesh[\"name\"], f'xray_Camera_{n+1:04}.png'))[:, :, 3]\n",
    "\n",
    "          im = draw_on_image(im, mask)\n",
    "       \n",
    "          contours = find_contours(mask.T, 0.5)\n",
    "          contours = [np.array(i).round().astype(np.int32) for i in contours]\n",
    "          contours = np.concatenate(contours)\n",
    "          xmin, xmax = np.min(contours[:, 0]), np.max(contours[:, 0])\n",
    "          ymin, ymax = np.min(contours[:, 1]), np.max(contours[:, 1])\n",
    "          objects_data[i] = [\n",
    "              (xmin, ymin, xmax, ymax),\n",
    "              mask[ymin:ymax, xmin:xmax],\n",
    "              np.stack(skeleton)[:, 0, :]  # select only heads\n",
    "          ]\n",
    "\n",
    "     all_data.append(objects_data)\n",
    "     break"
   ]
  },
  {
   "cell_type": "code",
   "execution_count": null,
   "metadata": {},
   "outputs": [],
   "source": [
    "plt.imshow(im)"
   ]
  },
  {
   "cell_type": "code",
   "execution_count": null,
   "metadata": {},
   "outputs": [],
   "source": []
  }
 ],
 "metadata": {
  "kernelspec": {
   "display_name": "blender-cv-utils-rZc3flFA-py3.11",
   "language": "python",
   "name": "python3"
  },
  "language_info": {
   "codemirror_mode": {
    "name": "ipython",
    "version": 3
   },
   "file_extension": ".py",
   "mimetype": "text/x-python",
   "name": "python",
   "nbconvert_exporter": "python",
   "pygments_lexer": "ipython3",
   "version": "3.11.0"
  }
 },
 "nbformat": 4,
 "nbformat_minor": 2
}
