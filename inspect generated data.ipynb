{
 "cells": [
  {
   "cell_type": "code",
   "execution_count": 1,
   "metadata": {},
   "outputs": [],
   "source": [
    "import pickle\n",
    "# import plotly.express as px\n",
    "import numpy as np\n",
    "import datetime"
   ]
  },
  {
   "cell_type": "code",
   "execution_count": 7,
   "metadata": {},
   "outputs": [
    {
     "data": {
      "text/plain": [
       "'2023-11-26 13:00:27'"
      ]
     },
     "execution_count": 7,
     "metadata": {},
     "output_type": "execute_result"
    }
   ],
   "source": [
    "import os\n",
    "os.path.j"
   ]
  },
  {
   "cell_type": "code",
   "execution_count": 6,
   "metadata": {},
   "outputs": [
    {
     "data": {
      "text/plain": [
       "'2023-11-26 13:00:06.988104'"
      ]
     },
     "execution_count": 6,
     "metadata": {},
     "output_type": "execute_result"
    }
   ],
   "source": [
    "str(datetime.datetime.now())"
   ]
  },
  {
   "cell_type": "code",
   "execution_count": 8,
   "metadata": {},
   "outputs": [],
   "source": [
    "d = pickle.load(open('C:/Users/ivand/Desktop/ses/test_2023-11-26-13-33-20/render_params.pickle','rb'))"
   ]
  },
  {
   "cell_type": "code",
   "execution_count": 9,
   "metadata": {},
   "outputs": [
    {
     "data": {
      "text/plain": [
       "{'resolution_percentage': (100,),\n",
       " 'resolution_x': (1920,),\n",
       " 'resolution_y': (1080,),\n",
       " 'pixel_aspect_x': (1.0,),\n",
       " 'pixel_aspect_y': (1.0,),\n",
       " 'engine': 'BLENDER_EEVEE'}"
      ]
     },
     "execution_count": 9,
     "metadata": {},
     "output_type": "execute_result"
    }
   ],
   "source": [
    "d"
   ]
  },
  {
   "cell_type": "code",
   "execution_count": null,
   "metadata": {},
   "outputs": [],
   "source": [
    "class Camera():\n",
    "    def __init__(self, **kwargs):\n",
    "        self.params = kwargs\n",
    "        self.\n",
    "\n",
    "    def get_sensor_size(sensor_fit, sensor_x, sensor_y):\n",
    "        if sensor_fit == 'VERTICAL':\n",
    "            return sensor_y\n",
    "        return sensor_x\n",
    "\n",
    "    # BKE_camera_sensor_fit\n",
    "    def get_sensor_fit(sensor_fit, size_x, size_y):\n",
    "        if sensor_fit == 'AUTO':\n",
    "            if size_x >= size_y:\n",
    "                return 'HORIZONTAL'\n",
    "            else:\n",
    "                return 'VERTICAL'\n",
    "        return sensor_fit\n",
    "\n",
    "    # Build intrinsic camera parameters from Blender camera data\n",
    "    #\n",
    "    # See notes on this in \n",
    "    # blender.stackexchange.com/questions/15102/what-is-blenders-camera-projection-matrix-model\n",
    "    # as well as\n",
    "    # https://blender.stackexchange.com/a/120063/3581\n",
    "    def get_calibration_matrix_K_from_blender(camd):\n",
    "        if camd.type != 'PERSP':\n",
    "            raise ValueError('Non-perspective cameras not supported')\n",
    "        f_in_mm = camd.lens\n",
    "        scale = scene.render.resolution_percentage / 100\n",
    "        resolution_x_in_px = scale * scene.render.resolution_x\n",
    "        resolution_y_in_px = scale * scene.render.resolution_y\n",
    "        sensor_size_in_mm = get_sensor_size(camd.sensor_fit, camd.sensor_width, camd.sensor_height)\n",
    "        sensor_fit = get_sensor_fit(\n",
    "            camd.sensor_fit,\n",
    "            scene.render.pixel_aspect_x * resolution_x_in_px,\n",
    "            scene.render.pixel_aspect_y * resolution_y_in_px\n",
    "        )\n",
    "        pixel_aspect_ratio = scene.render.pixel_aspect_y / scene.render.pixel_aspect_x\n",
    "        if sensor_fit == 'HORIZONTAL':\n",
    "            view_fac_in_px = resolution_x_in_px\n",
    "        else:\n",
    "            view_fac_in_px = pixel_aspect_ratio * resolution_y_in_px\n",
    "        pixel_size_mm_per_px = sensor_size_in_mm / f_in_mm / view_fac_in_px\n",
    "        s_u = 1 / pixel_size_mm_per_px\n",
    "        s_v = 1 / pixel_size_mm_per_px / pixel_aspect_ratio\n",
    "\n",
    "        # Parameters of intrinsic calibration matrix K\n",
    "        u_0 = resolution_x_in_px / 2 - camd.shift_x * view_fac_in_px\n",
    "        v_0 = resolution_y_in_px / 2 + camd.shift_y * view_fac_in_px / pixel_aspect_ratio\n",
    "        skew = 0 # only use rectangular pixels\n",
    "\n",
    "        K = np.array(\n",
    "            [(s_u, skew, u_0),\n",
    "            (   0,  s_v, v_0),\n",
    "            (   0,    0,   1)])\n",
    "        return K"
   ]
  },
  {
   "cell_type": "code",
   "execution_count": 6,
   "metadata": {},
   "outputs": [],
   "source": [
    "for o in d:\n",
    "    if o['type']=='CAMERA':\n",
    "        break"
   ]
  },
  {
   "cell_type": "code",
   "execution_count": 7,
   "metadata": {},
   "outputs": [
    {
     "data": {
      "text/plain": [
       "{'type': 'CAMERA',\n",
       " 'name': 'Camera',\n",
       " 'location': array([ 7.35889149, -6.92579079,  4.95830917]),\n",
       " 'scale': array([1., 1., 1.]),\n",
       " 'rotation_euler': array([1.10931897, 0.        , 0.81492817]),\n",
       " 'lens': 50.0,\n",
       " 'lens_unit': 'MILLIMETERS',\n",
       " 'angle_x': 0.6911112070083618,\n",
       " 'angle_y': 0.4710899591445923,\n",
       " 'sensor_fit': 'AUTO',\n",
       " 'sensor_height': 24.0,\n",
       " 'sensor_width': 36.0,\n",
       " 'imname': 'C:/Users/ivand/Desktop/ses/Camera.png'}"
      ]
     },
     "execution_count": 7,
     "metadata": {},
     "output_type": "execute_result"
    }
   ],
   "source": [
    "o"
   ]
  },
  {
   "cell_type": "code",
   "execution_count": null,
   "metadata": {},
   "outputs": [],
   "source": [
    "import bpy\n",
    "import pickle\n",
    "import mathutils\n",
    "import numpy as np\n",
    "\n",
    "\n",
    "import bpy\n",
    "from mathutils import Matrix, Vector\n",
    "import numpy as np\n",
    "\n",
    "# From https://blender.stackexchange.com/a/120063/116769\n",
    "# copy get_sensor_size(), get_sensor_fit(), get_calibration_matrix_K_from_blender()\n",
    "\n",
    "#---------------------------------------------------------------\n",
    "# 3x4 P matrix from Blender camera\n",
    "#---------------------------------------------------------------\n",
    "\n",
    "# BKE_camera_sensor_size\n",
    "\n",
    "\n",
    "# Our contribution below\n",
    "def get_3x4_RT_matrix_from_blender(obj):\n",
    "  isCamera = (obj.type == 'CAMERA')\n",
    "  R_BlenderView_to_OpenCVView = np.diag([1 if isCamera else -1,-1,-1])\n",
    "\n",
    "  location, rotation = obj.matrix_world.decompose()[:2]\n",
    "  R_BlenderView = rotation.to_matrix().transposed()\n",
    "\n",
    "  T_BlenderView = -1.0 * R_BlenderView @ location\n",
    "\n",
    "  R_OpenCV = R_BlenderView_to_OpenCVView @ R_BlenderView\n",
    "  T_OpenCV = R_BlenderView_to_OpenCVView @ T_BlenderView\n",
    "  \n",
    "  RT_OpenCV = Matrix(np.column_stack((R_OpenCV, T_OpenCV)))\n",
    "  return RT_OpenCV, R_OpenCV, T_OpenCV\n",
    "\n",
    "def get_3x4_P_matrix_from_blender(cam):\n",
    "  K = get_calibration_matrix_K_from_blender(cam.data)\n",
    "  RT = get_3x4_RT_matrix_from_blender(cam)[0]\n",
    "  return K @ RT\n",
    "\n",
    "def export_camera_to_opencv(cam_object):\n",
    "  P = get_3x4_P_matrix_from_blender(cam_object)\n",
    "\n",
    "  nP = np.matrix(P)\n",
    "  return nP"
   ]
  }
 ],
 "metadata": {
  "kernelspec": {
   "display_name": "blender-cv-utils-rZc3flFA-py3.11",
   "language": "python",
   "name": "python3"
  },
  "language_info": {
   "codemirror_mode": {
    "name": "ipython",
    "version": 3
   },
   "file_extension": ".py",
   "mimetype": "text/x-python",
   "name": "python",
   "nbconvert_exporter": "python",
   "pygments_lexer": "ipython3",
   "version": "3.11.0"
  }
 },
 "nbformat": 4,
 "nbformat_minor": 2
}
