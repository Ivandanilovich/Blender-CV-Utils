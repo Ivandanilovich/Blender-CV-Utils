{
 "cells": [
  {
   "cell_type": "code",
   "execution_count": null,
   "id": "20f74706-3297-4f95-8a13-d5bf99a06998",
   "metadata": {},
   "outputs": [],
   "source": [
    "from blender_cv_utils.trackable import *\n",
    "from blender_cv_utils.renderer import RenderHandler"
   ]
  },
  {
   "cell_type": "code",
   "execution_count": null,
   "id": "084c7bfe-b7d0-4099-a572-d9c2dcd37e7a",
   "metadata": {},
   "outputs": [],
   "source": [
    "output_path = 'C:/Users/ivand/Desktop/output_temp/'\n",
    "output_suffix='default' \n",
    "blender_file_path= 'C:/Users/ivand/Downloads/myrig.blend'"
   ]
  },
  {
   "cell_type": "code",
   "execution_count": null,
   "id": "62119319",
   "metadata": {},
   "outputs": [],
   "source": [
    "if blender_file_path is not None:\n",
    "    bpy.ops.wm.open_mainfile(filepath=blender_file_path)"
   ]
  },
  {
   "cell_type": "code",
   "execution_count": null,
   "id": "71a64a9c-a1c6-4ae1-99e8-6e116adfb849",
   "metadata": {},
   "outputs": [],
   "source": [
    "cameras = [\n",
    "    CameraObject('Camera'),\n",
    "]\n",
    "\n",
    "obs = [\n",
    "    ArmatureObject('Armature'),\n",
    "    ArmatureObject('Armature.001'),\n",
    "    MeshObject('default_rig.001', is_mask=True, is_xraymask=True),\n",
    "    MeshObject('default_rig', is_mask=True, is_xraymask=True),\n",
    "]"
   ]
  },
  {
   "cell_type": "code",
   "execution_count": null,
   "id": "cc4e8a08-e603-4056-a05d-fe13956e9ef6",
   "metadata": {},
   "outputs": [],
   "source": [
    "renderer = RenderHandler(output_path, output_suffix,\n",
    "                         cameras, obs)"
   ]
  },
  {
   "cell_type": "code",
   "execution_count": null,
   "id": "d61cf876-0c8c-40a3-aae8-71e894e2a238",
   "metadata": {},
   "outputs": [],
   "source": [
    "renderer.render_sequence()"
   ]
  },
  {
   "cell_type": "code",
   "execution_count": null,
   "id": "8f78947a-4db9-48b5-a0fc-fa6972035312",
   "metadata": {},
   "outputs": [],
   "source": []
  }
 ],
 "metadata": {
  "kernelspec": {
   "display_name": "blender-cv-utils-rZc3flFA-py3.11",
   "language": "python",
   "name": "python3"
  },
  "language_info": {
   "codemirror_mode": {
    "name": "ipython",
    "version": 3
   },
   "file_extension": ".py",
   "mimetype": "text/x-python",
   "name": "python",
   "nbconvert_exporter": "python",
   "pygments_lexer": "ipython3",
   "version": "3.11.0"
  }
 },
 "nbformat": 4,
 "nbformat_minor": 5
}
