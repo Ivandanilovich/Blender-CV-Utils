{
 "cells": [
  {
   "cell_type": "code",
   "execution_count": 3,
   "id": "20f74706-3297-4f95-8a13-d5bf99a06998",
   "metadata": {},
   "outputs": [],
   "source": [
    "import bpy\n",
    "import numpy as np\n",
    "\n",
    "from blender_cv_utils.trackable import *\n",
    "from blender_cv_utils.renderer import RenderHandler"
   ]
  },
  {
   "cell_type": "code",
   "execution_count": 4,
   "id": "084c7bfe-b7d0-4099-a572-d9c2dcd37e7a",
   "metadata": {},
   "outputs": [],
   "source": [
    "output_path = 'C:/Users/ivand/Desktop/output_temp/'\n",
    "output_suffix='default_sc2' \n",
    "blender_file_path= 'C:/Users/ivand/Downloads/myrig.blend'"
   ]
  },
  {
   "cell_type": "code",
   "execution_count": 5,
   "id": "62119319",
   "metadata": {},
   "outputs": [],
   "source": [
    "if blender_file_path is not None:\n",
    "    bpy.ops.wm.open_mainfile(filepath=blender_file_path)"
   ]
  },
  {
   "cell_type": "code",
   "execution_count": 6,
   "id": "71a64a9c-a1c6-4ae1-99e8-6e116adfb849",
   "metadata": {},
   "outputs": [],
   "source": [
    "cameras = [\n",
    "    CameraObject('Camera.001'),\n",
    "]\n",
    "\n",
    "obs = [\n",
    "    ArmatureObject('Armature'),\n",
    "    ArmatureObject('Armature.001'),\n",
    "    ArmatureObject('Armature.002'),\n",
    "    ArmatureObject('Armature.003'),\n",
    "    ArmatureObject('Armature.004'),\n",
    "    MeshObject('default_rig.001', is_mask=True, is_xraymask=True),\n",
    "    MeshObject('default_rig.002', is_mask=True, is_xraymask=True),\n",
    "    MeshObject('default_rig.003', is_mask=True, is_xraymask=True),\n",
    "    MeshObject('default_rig.004', is_mask=True, is_xraymask=True),\n",
    "    MeshObject('Flanged pipe', is_mask=False, is_xraymask=False),\n",
    "    MeshObject('default_rig', is_mask=True, is_xraymask=True),\n",
    "]"
   ]
  },
  {
   "cell_type": "code",
   "execution_count": 7,
   "id": "cc4e8a08-e603-4056-a05d-fe13956e9ef6",
   "metadata": {},
   "outputs": [],
   "source": [
    "renderer = RenderHandler(output_path, output_suffix,\n",
    "                         cameras, obs)"
   ]
  },
  {
   "cell_type": "code",
   "execution_count": 8,
   "id": "d61cf876-0c8c-40a3-aae8-71e894e2a238",
   "metadata": {},
   "outputs": [],
   "source": [
    "# renderer.render_sequence()"
   ]
  },
  {
   "cell_type": "code",
   "execution_count": null,
   "id": "8f78947a-4db9-48b5-a0fc-fa6972035312",
   "metadata": {},
   "outputs": [],
   "source": []
  },
  {
   "cell_type": "code",
   "execution_count": null,
   "id": "2a0b4c49-24c2-4d5b-80e1-935e60bede05",
   "metadata": {},
   "outputs": [],
   "source": []
  },
  {
   "cell_type": "code",
   "execution_count": 9,
   "id": "629d8c4b-262e-4cce-ad63-6d28142fa503",
   "metadata": {},
   "outputs": [],
   "source": [
    "obs = ['Armature', 'Armature.001', 'Armature.002', 'Armature.003', 'Armature.004',]"
   ]
  },
  {
   "cell_type": "code",
   "execution_count": 10,
   "id": "0467b0ca-b1ce-442a-ac3a-ea58e7aea6db",
   "metadata": {},
   "outputs": [],
   "source": [
    "# create materials\n",
    "\n",
    "mats={}\n",
    "for name in obs:\n",
    "    mats[name] = bpy.data.materials['pigmat'].copy().name\n",
    "    mesh_ob_name = bpy.data.objects[name].children[0].name\n",
    "    bpy.data.objects[mesh_ob_name].active_material = bpy.data.materials[mats[name]]"
   ]
  },
  {
   "cell_type": "code",
   "execution_count": 11,
   "id": "0a10a469-3ba8-41e7-9b7c-c119abf0a413",
   "metadata": {},
   "outputs": [],
   "source": [
    "# randomize position\n",
    "\n",
    "for name in obs:\n",
    "    bpy.data.objects[name].location[0] = np.random.uniform(-2,2)\n",
    "    bpy.data.objects[name].location[1] = np.random.uniform(-2,2)\n",
    "    \n",
    "    bpy.data.objects[name].rotation_euler[2] = np.random.random() * 3.14*2"
   ]
  },
  {
   "cell_type": "code",
   "execution_count": 12,
   "id": "5d3bf65e-4335-4070-88e5-7dc1cd54934c",
   "metadata": {},
   "outputs": [],
   "source": [
    "# randomize textures\n",
    "\n",
    "for name in obs:\n",
    "    bpy.data.materials[mats[name]].node_tree.nodes[\"Mapping\"].inputs[1].default_value[1] = np.random.random()\n",
    "    bpy.data.materials[mats[name]].node_tree.nodes[\"Mapping\"].inputs[1].default_value[2] = np.random.random()\n",
    "\n",
    "    # scale\n",
    "    s = np.random.random()\n",
    "    bpy.data.materials[mats[name]].node_tree.nodes[\"Mapping\"].inputs[3].default_value[0] = s\n",
    "    bpy.data.materials[mats[name]].node_tree.nodes[\"Mapping\"].inputs[3].default_value[1] = s\n",
    "    bpy.data.materials[mats[name]].node_tree.nodes[\"Mapping\"].inputs[3].default_value[2] = s"
   ]
  },
  {
   "cell_type": "code",
   "execution_count": 13,
   "id": "1ed4e839-d9e5-414f-99bd-3159d2d1b80a",
   "metadata": {},
   "outputs": [],
   "source": [
    "# randomize occlud\n",
    "\n",
    "bpy.data.objects['Flanged pipe'].location[0] = np.random.uniform(-3,2)\n",
    "bpy.data.objects['Flanged pipe'].rotation_euler[2] = np.random.uniform(0, 3.14)"
   ]
  },
  {
   "cell_type": "code",
   "execution_count": 14,
   "id": "099f5787-6df0-46fe-99a2-448f6523f128",
   "metadata": {},
   "outputs": [],
   "source": [
    "bpy.context.scene.frame_end = 10"
   ]
  },
  {
   "cell_type": "code",
   "execution_count": 15,
   "id": "e6481d64-67de-43e6-9a94-c00b88a478fd",
   "metadata": {},
   "outputs": [],
   "source": [
    "from tqdm.notebook import tqdm"
   ]
  },
  {
   "cell_type": "code",
   "execution_count": 16,
   "id": "8de19d3d-d84a-4875-aa63-8850dc107204",
   "metadata": {},
   "outputs": [
    {
     "data": {
      "application/vnd.jupyter.widget-view+json": {
       "model_id": "af5a022245ff4c82962f902de33836ce",
       "version_major": 2,
       "version_minor": 0
      },
      "text/plain": [
       "  0%|          | 0/9 [00:00<?, ?it/s]"
      ]
     },
     "metadata": {},
     "output_type": "display_data"
    }
   ],
   "source": [
    "\n",
    "\n",
    "for i in tqdm(range(1, 10)):\n",
    "    i = i + 0\n",
    "\n",
    "    for name in obs:\n",
    "        bpy.data.objects[name].location[0] = np.random.uniform(-2,2)\n",
    "        bpy.data.objects[name].location[1] = np.random.uniform(-2,2)\n",
    "        \n",
    "        bpy.data.objects[name].rotation_euler[2] = np.random.random() * 3.14*2\n",
    "\n",
    "    for name in obs:\n",
    "        bpy.data.materials[mats[name]].node_tree.nodes[\"Mapping\"].inputs[1].default_value[1] = np.random.random()\n",
    "        bpy.data.materials[mats[name]].node_tree.nodes[\"Mapping\"].inputs[1].default_value[2] = np.random.random()\n",
    "    \n",
    "        # scale\n",
    "        s = np.random.random()\n",
    "        bpy.data.materials[mats[name]].node_tree.nodes[\"Mapping\"].inputs[3].default_value[0] = s\n",
    "        bpy.data.materials[mats[name]].node_tree.nodes[\"Mapping\"].inputs[3].default_value[1] = s\n",
    "        bpy.data.materials[mats[name]].node_tree.nodes[\"Mapping\"].inputs[3].default_value[2] = s\n",
    "    \n",
    "    bpy.data.objects['Flanged pipe'].location[0] = np.random.uniform(-3,2)\n",
    "    bpy.data.objects['Flanged pipe'].rotation_euler[2] = np.random.uniform(0, 3.14)\n",
    "    \n",
    "    bpy.context.scene.frame_current = i\n",
    "    renderer.render_frame(frame_index=i)"
   ]
  },
  {
   "cell_type": "code",
   "execution_count": null,
   "id": "8b362e37-5e05-4d8f-aaca-a7897cffb731",
   "metadata": {},
   "outputs": [],
   "source": []
  },
  {
   "cell_type": "code",
   "execution_count": null,
   "id": "68af7db2-92cd-4c45-871d-6f64d73845fa",
   "metadata": {},
   "outputs": [],
   "source": []
  },
  {
   "cell_type": "code",
   "execution_count": null,
   "id": "b2fd567c-a306-40e9-af0c-d1337ddeaf16",
   "metadata": {},
   "outputs": [],
   "source": []
  },
  {
   "cell_type": "code",
   "execution_count": null,
   "id": "182ff9ad-cc64-420d-b460-a0be7f0eae3c",
   "metadata": {},
   "outputs": [],
   "source": []
  },
  {
   "cell_type": "code",
   "execution_count": null,
   "id": "8018b579-09fa-4170-a206-9a8cb7e2d3ea",
   "metadata": {},
   "outputs": [],
   "source": [
    "IK_bones = ['Bone.012.R.001', 'Bone.012.L.001', 'Bone.008.R.001', 'Bone.008.L.001', 'Bone.020']"
   ]
  },
  {
   "cell_type": "code",
   "execution_count": 28,
   "id": "ab642926-9d67-4bb5-902b-2bd22cbcdedb",
   "metadata": {},
   "outputs": [],
   "source": [
    "import numpy as np\n",
    "k = np.array([[     212.67,       181.1,     0.85428],\n",
    "       [     207.52,      171.65,     0.85374],\n",
    "       [     202.65,      166.84,      0.8538],\n",
    "       [     197.37,      165.17,     0.85305],\n",
    "       [     191.31,      164.21,     0.85433],\n",
    "       [     187.77,      165.35,     0.85378],\n",
    "       [     188.14,         181,     0.85329],\n",
    "       [     187.45,      187.35,     0.85526],\n",
    "       [     187.51,      192.91,     0.85577],\n",
    "       [      188.1,      165.48,     0.85316],\n",
    "       [     185.26,      167.06,     0.85411],\n",
    "       [     182.33,      170.46,     0.85333],\n",
    "       [     180.75,      174.31,     0.85461],\n",
    "       [     178.73,      183.06,      0.8557],\n",
    "       [     180.49,      174.21,     0.85568],\n",
    "       [     180.58,      174.14,     0.85464],\n",
    "       [     174.85,      170.88,     0.85235],\n",
    "       [     180.49,      174.52,     0.85538],\n",
    "       [     180.69,      164.31,     0.85493],\n",
    "       [     187.77,      165.35,     0.85256],\n",
    "       [     193.86,      174.11,     0.85721],\n",
    "       [     193.93,      181.19,     0.85854],\n",
    "       [     193.82,      186.71,     0.86009],\n",
    "       [     212.31,      180.93,     0.85328],\n",
    "       [     207.67,      195.58,     0.85328],\n",
    "       [     208.38,      205.61,     0.85578],\n",
    "       [     207.21,       214.1,      0.8566],\n",
    "       [     212.48,      181.24,     0.85326],\n",
    "       [     215.74,      176.07,     0.85411],\n",
    "       [     217.43,      176.33,     0.85109],\n",
    "       [     212.75,      180.83,     0.85326],\n",
    "       [     216.55,      186.08,     0.85681],\n",
    "       [     217.63,      196.18,     0.85969],\n",
    "       [     217.06,       204.1,     0.86164]], dtype=np.float32)"
   ]
  },
  {
   "cell_type": "code",
   "execution_count": 29,
   "id": "73eed852-5dcc-452b-a363-4361d614b660",
   "metadata": {},
   "outputs": [],
   "source": [
    "k[:,0]/=320\n",
    "k[:,1]/=320"
   ]
  },
  {
   "cell_type": "code",
   "execution_count": 32,
   "id": "12282b28-f80a-4d57-8879-79db5d2cebc0",
   "metadata": {},
   "outputs": [],
   "source": [
    "# Create a new mesh\n",
    "mesh = bpy.data.meshes.new(\"MyMeshNN\")\n",
    "\n",
    "# Set the vertices of the mesh\n",
    "mesh.from_pydata(k, e, [])\n",
    "\n",
    "# Update the mesh\n",
    "mesh.update()\n",
    "\n",
    "# Create an object and link it to the mesh\n",
    "obj = bpy.data.objects.new(\"MyObjectNN\", mesh)\n",
    "bpy.context.collection.objects.link(obj)"
   ]
  }
 ],
 "metadata": {
  "kernelspec": {
   "display_name": "blender",
   "language": "python",
   "name": "blender"
  },
  "language_info": {
   "codemirror_mode": {
    "name": "ipython",
    "version": 3
   },
   "file_extension": ".py",
   "mimetype": "text/x-python",
   "name": "python",
   "nbconvert_exporter": "python",
   "pygments_lexer": "ipython3",
   "version": "3.10.13"
  }
 },
 "nbformat": 4,
 "nbformat_minor": 5
}
