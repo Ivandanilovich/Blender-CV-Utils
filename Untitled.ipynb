{
 "cells": [
  {
   "cell_type": "code",
   "execution_count": 1,
   "id": "286a6b8c-eff5-425f-a969-b15f03f5c281",
   "metadata": {},
   "outputs": [],
   "source": [
    "import sys\n",
    "sys.path.append('C:/Users/ivand/Documents/Projects/Pigs/Blender-CV-Utils')\n",
    "\n",
    "from blender_cv_utils.trackable import SceneObject\n",
    "import time\n",
    "import bpy\n",
    "import numpy as np\n",
    "import os\n",
    "import pickle\n",
    "import datetime\n",
    "from tqdm.notebook import tqdm\n",
    "import matplotlib.pyplot as plt\n",
    "import json"
   ]
  },
  {
   "cell_type": "code",
   "execution_count": 2,
   "id": "084c7bfe-b7d0-4099-a572-d9c2dcd37e7a",
   "metadata": {},
   "outputs": [],
   "source": [
    "# initial Render class input\n",
    "output_path = 'C:/Users/ivand/Desktop/ses/'\n",
    "output_suffix='default' \n",
    "blender_file_path= 'C:/Users/ivand/Downloads/test scene.blend'"
   ]
  },
  {
   "cell_type": "code",
   "execution_count": 3,
   "id": "1eebd1bc-4f9b-4f71-a1b9-aa2dd77376ab",
   "metadata": {},
   "outputs": [],
   "source": [
    "if blender_file_path:\n",
    "    bpy.ops.wm.open_mainfile(filepath=blender_file_path)"
   ]
  },
  {
   "cell_type": "code",
   "execution_count": 4,
   "id": "81831632-5942-4648-a771-7c981d0cb349",
   "metadata": {},
   "outputs": [
    {
     "data": {
      "text/plain": [
       "1"
      ]
     },
     "execution_count": 4,
     "metadata": {},
     "output_type": "execute_result"
    },
    {
     "name": "stdout",
     "output_type": "stream",
     "text": [
      "blenderkit addon: Running the install popup handler.\n"
     ]
    }
   ],
   "source": [
    "scene = bpy.context.scene\n",
    "scene.frame_end\n",
    "scene.frame_start\n",
    "scene.frame_current"
   ]
  },
  {
   "cell_type": "code",
   "execution_count": 57,
   "id": "d32a6d40-2943-4db7-972d-59363cdcb77b",
   "metadata": {},
   "outputs": [],
   "source": [
    "class SceneObject():\n",
    "    def __init__(self, ob):\n",
    "        if isinstance(ob, str):\n",
    "            assert ob in bpy.data.objects.keys(), 'Object with that name is not at scene'\n",
    "            self._name = ob\n",
    "        elif not isinstance(ob, bpy_types.Object):\n",
    "            raise Exception('Not blender object')\n",
    "        else:\n",
    "            self._name = ob.name\n",
    "    \n",
    "    @property\n",
    "    def name(self):\n",
    "        return self._name\n",
    "    \n",
    "    @property\n",
    "    def ob(self):\n",
    "        return bpy.data.objects[self.name] # safier to call object by name each time\n",
    "    \n",
    "    @property\n",
    "    def type(self):\n",
    "        return self.ob.type\n",
    "    \n",
    "    def get_annotations(self, depsgraph):\n",
    "        ob = depsgraph.objects[self._name]\n",
    "        return {\n",
    "            'type': self.type,\n",
    "            'name': self.name,\n",
    "            'location': tuple(ob.location),\n",
    "            'scale': tuple(ob.scale),\n",
    "            'rotation_euler': tuple(ob.rotation_euler),\n",
    "        }\n",
    "\n",
    "class MeshObject(SceneObject):\n",
    "    def __init__(self, ob, is_mask=True, is_xraymask=False):\n",
    "        super().__init__(ob)\n",
    "        assert self.type == 'MESH'\n",
    "        self.is_mask = is_mask\n",
    "        self.is_xraymask = is_xraymask\n",
    "\n",
    "    def get_annotations(self, depsgraph, **kwargs):\n",
    "        super_annots = super().get_annotations(depsgraph)\n",
    "        ob = depsgraph.objects[self._name]\n",
    "        d = {\n",
    "            'verts': [tuple(i.co) for i in ob.data.vertices], \n",
    "            'ray_cast_collision_points': {},\n",
    "        }\n",
    "        if 'cameras' in kwargs:\n",
    "            for camera in kwargs['cameras']:\n",
    "                camera_location = depsgraph.objects[camera.name].location\n",
    "                ray_cast_collision_points = [tuple(scene.ray_cast(depsgraph, camera_location, i.co-camera_location)[1]) for i in ob.data.vertices] \n",
    "                d['ray_cast_collision_points'][camera.name] = ray_cast_collision_points\n",
    "        return super_annots | d\n",
    "\n",
    "\n",
    "class ArmatureObject(SceneObject):\n",
    "    def __init__(self, ob):\n",
    "        super().__init__(ob)\n",
    "        assert self.type == 'ARMATURE'\n",
    "\n",
    "    def get_annotations(self, depsgraph, **kwargs):\n",
    "        super_annots = super().get_annotations(depsgraph)\n",
    "        ob = depsgraph.objects[self._name]\n",
    "\n",
    "        default_data={}\n",
    "        for bone in ob.data.bones:\n",
    "            default_data[bone.name] = {'head_local': tuple(bone.head_local),\n",
    "                                        'head': tuple(bone.head),\n",
    "                                        'tail_local': tuple(bone.tail_local),\n",
    "                                        'tail': tuple(bone.tail),\n",
    "                                        'matrix': tuple([tuple(i) for i in bone.matrix]),\n",
    "                                        'matrix_local': tuple([tuple(i) for i in bone.matrix_local]),}\n",
    "        pose={}\n",
    "        for bone in ob.pose.bones:\n",
    "            pose[bone.name] = {'head':tuple(bone.head),\n",
    "                               'tail':tuple(bone.tail),\n",
    "                               'matrix':tuple([tuple(i) for i in bone.matrix]),}\n",
    "        d = {\n",
    "            'default_data': default_data,\n",
    "            'pose': pose,\n",
    "        }\n",
    "        return super_annots | d\n",
    "    \n",
    "\n",
    "\n",
    "class CameraObject(SceneObject):\n",
    "    def __init__(self, ob):\n",
    "        super().__init__(ob)\n",
    "        assert self.type == 'CAMERA'\n",
    "\n",
    "    def get_annotations(self, depsgraph, **kwargs):\n",
    "        super_annots = super().get_annotations(depsgraph)\n",
    "        ob = depsgraph.objects[self._name]\n",
    "        d = {\n",
    "            'lens': ob.data.lens,\n",
    "            'lens_unit': ob.data.lens_unit,\n",
    "            'angle_x': ob.data.angle_x,\n",
    "            'angle_y': ob.data.angle_y,\n",
    "            'sensor_fit': ob.data.sensor_fit,\n",
    "            'sensor_height': ob.data.sensor_height,\n",
    "            'sensor_width': ob.data.sensor_width,\n",
    "        }\n",
    "        return super_annots | d"
   ]
  },
  {
   "cell_type": "code",
   "execution_count": 58,
   "id": "71a64a9c-a1c6-4ae1-99e8-6e116adfb849",
   "metadata": {},
   "outputs": [],
   "source": [
    "cameras = [\n",
    "    CameraObject('Camera'),\n",
    "    CameraObject('Camera.001'),\n",
    "]\n",
    "\n",
    "obs = [\n",
    "    MeshObject('Cube', is_mask=True, is_xraymask=False),\n",
    "    MeshObject('Icosphere', is_mask=True, is_xraymask=False),\n",
    "    ArmatureObject('Armature'),\n",
    "]"
   ]
  },
  {
   "cell_type": "code",
   "execution_count": 59,
   "id": "cc4e8a08-e603-4056-a05d-fe13956e9ef6",
   "metadata": {},
   "outputs": [
    {
     "data": {
      "text/plain": [
       "bpy.data.scenes['Scene'].node_tree"
      ]
     },
     "execution_count": 59,
     "metadata": {},
     "output_type": "execute_result"
    }
   ],
   "source": [
    "# initiate cryptomatte\n",
    "if not scene.use_nodes:\n",
    "    scene.use_nodes = True\n",
    "scene.render.use_compositing = True\n",
    "scene.view_layers[\"ViewLayer\"].use_pass_cryptomatte_object = True\n",
    "\n",
    "output_nodes=[]\n",
    "for ob in obs:\n",
    "    if ob.type!='MESH' or not ob.is_mask:\n",
    "        continue\n",
    "    output_node = scene.node_tree.nodes.new(\"CompositorNodeOutputFile\")\n",
    "    output_node.base_path = os.path.join(output_path, output_suffix, ob.name)\n",
    "    output_nodes.append(output_node)\n",
    "    cryptomatte = scene.node_tree.nodes.new(\"CompositorNodeCryptomatteV2\")\n",
    "    cryptomatte.matte_id = ob.name\n",
    "    scene.node_tree.links.new(cryptomatte.outputs['Image'], output_node.inputs['Image'])\n",
    "    scene.node_tree.links.new(cryptomatte.inputs['Image'], scene.node_tree.nodes['Render Layers'].outputs['Image'])\n",
    "\n",
    "\n",
    "output_node = scene.node_tree.nodes.new(\"CompositorNodeOutputFile\")\n",
    "output_node.base_path = os.path.join(output_path, output_suffix)\n",
    "scene.node_tree.links.new(scene.node_tree.nodes['Render Layers'].outputs['Image'], output_node.inputs['Image'])       \n"
   ]
  },
  {
   "cell_type": "code",
   "execution_count": 64,
   "id": "d61cf876-0c8c-40a3-aae8-71e894e2a238",
   "metadata": {},
   "outputs": [
    {
     "data": {
      "application/vnd.jupyter.widget-view+json": {
       "model_id": "d55f50a9f6324a24be57ac1ab4e0bd53",
       "version_major": 2,
       "version_minor": 0
      },
      "text/plain": [
       "  0%|          | 0/124 [00:00<?, ?it/s]"
      ]
     },
     "metadata": {},
     "output_type": "display_data"
    }
   ],
   "source": [
    "for i in tqdm(range(scene.frame_start, scene.frame_end)):\n",
    "    scene.frame_current = i\n",
    "    depsgraph = bpy.context.evaluated_depsgraph_get()\n",
    "    annots = {ob.name:ob.get_annotations(depsgraph, cameras=cameras) for ob in obs+cameras}\n",
    "    for camera in cameras:\n",
    "        scene.camera = camera.ob\n",
    "        for node in scene.node_tree.nodes:\n",
    "            if node.type == 'OUTPUT_FILE':\n",
    "                node.file_slots[0].path = f'{camera.name}_'\n",
    "        bpy.ops.render.render()\n",
    "    json.dump(annots, open(os.path.join(output_path, output_suffix, f'{i:04}.json'),'w'), indent=4)"
   ]
  },
  {
   "cell_type": "code",
   "execution_count": null,
   "id": "6506ea75-1065-43e1-affe-0c21c622f992",
   "metadata": {},
   "outputs": [],
   "source": []
  },
  {
   "cell_type": "code",
   "execution_count": null,
   "id": "b00d885b-eff2-43b4-9951-3f3873492bd6",
   "metadata": {},
   "outputs": [],
   "source": []
  },
  {
   "cell_type": "code",
   "execution_count": null,
   "id": "2e9ef861-f640-4caa-a293-dc5110b7255c",
   "metadata": {},
   "outputs": [],
   "source": []
  },
  {
   "cell_type": "code",
   "execution_count": null,
   "id": "1e4be91f-acbf-40fa-b881-35c928b89a0a",
   "metadata": {},
   "outputs": [],
   "source": []
  },
  {
   "cell_type": "code",
   "execution_count": null,
   "id": "3c1ffe76-cb92-406e-b1a1-555cf12db6df",
   "metadata": {},
   "outputs": [],
   "source": [
    "obs = [SceneObject('Cube')]\n",
    "\n",
    "\n",
    "class Renderer():\n",
    "    def __init__(self, cameras, obs, output_path, output_suffix='default', blender_file_path=None):\n",
    "        bpy.ops.wm.open_mainfile(filepath=blender_file_path)\n",
    "        time.sleep(1)\n",
    "        assert len(list(bpy.data.scenes)) == 1\n",
    "\n",
    "        self.cameras = cameras\n",
    "        self.obs = obs\n",
    "        self.frame_index = 0\n",
    "\n",
    "        time_suffix = datetime.datetime.now().strftime('%Y-%m-%d-%H-%M-%S')\n",
    "        self.output_path = os.path.join(output_path, f'{output_suffix}_{time_suffix}')\n",
    "        os.mkdir(self.output_path)\n",
    "        \n",
    "        self.\n",
    "        self.resolution_percentage = self.scene.render.resolution_percentage\n",
    "        self.resolution_x = self.scene.render.resolution_x\n",
    "        self.resolution_y = self.scene.render.resolution_y\n",
    "        self.pixel_aspect_x = self.scene.render.pixel_aspect_x\n",
    "        self.pixel_aspect_y = self.scene.render.pixel_aspect_y\n",
    "        self.engine = self.scene.render.engine\n",
    "\n",
    "        # also save global params that is not change during generation\n",
    "\n",
    "        pickle.dump({'resolution_percentage': self.resolution_percentage,\n",
    "                        'resolution_x': self.resolution_x,\n",
    "                        'resolution_y': self.resolution_y,\n",
    "                        'pixel_aspect_x': self.pixel_aspect_x,\n",
    "                        'pixel_aspect_y': self.pixel_aspect_y,\n",
    "                        'engine': self.engine,}, \n",
    "                    open(os.path.join(self.output_path, 'render_params.pickle'), 'wb'))\n",
    "\n",
    "        self._init_cryptomatte()\n",
    "\n",
    "    def _init_cryptomatte(self):\n",
    "        if not self.scene.use_nodes:\n",
    "            self.scene.use_nodes = True\n",
    "        else:\n",
    "            print('Nodes initiated')\n",
    "            return\n",
    "        self.\n",
    "\n",
    "    def get_mask_for_object(self, ob):\n",
    "        # bpy.ops.render.render(write_still=True)\n",
    "        # self.scene.render.use_compositing = True # update nodes\n",
    "        self.scene.node_tree.nodes['Cryptomatte'].matte_id = ob.name\n",
    "        # self.scene.render.use_compositing = True # update nodes\n",
    "        time.sleep(1)  # blender tackle\n",
    "        pixels = bpy.data.images['Viewer Node'].pixels\n",
    "        image = np.array(pixels).reshape(self.resolution_y,self.resolution_x,4)\n",
    "        return image[::-1] # don't know why but this image is turned upside down\n",
    "    \n",
    "    def render(self, image_path, render_engine=None):\n",
    "        if render_engine:\n",
    "            self.scene.render.engine = render_engine\n",
    "\n",
    "        self.scene.render.filepath = image_path\n",
    "        bpy.ops.render.render(write_still=True)\n",
    "        self.scene.render.engine = self.engine\n",
    "        \n",
    "    \n",
    "    def get_xray_mask_for_object(self, path, ob):\n",
    "        for o in self.obs:\n",
    "            if o.type == \"MESH\":\n",
    "                o.hide_render = True\n",
    "\n",
    "        ob.hide_render = False\n",
    "        self.render(path, render_engine='BLENDER_WORKBENCH')\n",
    "\n",
    "        for o in self.obs:\n",
    "            if o.type == \"MESH\":\n",
    "                o.hide_render = False\n",
    "\n",
    "    def main(self):\n",
    "        annots = {ob.name:ob.get_annotations() for ob in self.obs}\n",
    "        cameras = [ob for ob in self.obs if ob.type=='CAMERA']\n",
    "        meshes = [ob for ob in self.obs if ob.type=='MESH']\n",
    "        for camera in cameras:\n",
    "            camera.make_active()\n",
    "            impath = os.path.join(self.output_root_path, self.output_suffix, f'image_{camera.name}.png')\n",
    "            self.render(image_path=impath)\n",
    "            annots[camera.name]['image_path'] = impath\n",
    "\n",
    "            for mesh in meshes: # получаем маски для объектов\n",
    "                mask_path = os.path.join(self.output_root_path, self.output_suffix, f'image_{camera.name}_mask_{mesh.name}.png')\n",
    "                mask = self.get_mask_for_object(mesh)\n",
    "                plt.imsave(mask_path, mask)\n",
    "                annots[mesh.name]['mask_path'] = mask_path\n",
    "\n",
    "                # xray маска для объекта\n",
    "                mask_path = os.path.join(self.output_root_path, self.output_suffix, f'image_{camera.name}_xraymask_{mesh.name}.png')\n",
    "                self.get_xray_mask_for_object(mask_path, mesh)\n",
    "                annots[mesh.name]['xraymask_path'] = mask_path\n",
    "\n",
    "\n",
    "        pickle.dump(annots, open(os.path.join(self.output_root_path, self.output_suffix, f'annots_{self.frame_index}.pickle'), 'wb'))\n",
    "        self.frame_index+=1"
   ]
  },
  {
   "cell_type": "code",
   "execution_count": null,
   "id": "43734ba0-24e6-4067-886b-8c81c25bb33b",
   "metadata": {},
   "outputs": [],
   "source": []
  },
  {
   "cell_type": "code",
   "execution_count": null,
   "id": "84c3adc2-5b57-446f-9353-b9258b198ac0",
   "metadata": {},
   "outputs": [],
   "source": []
  },
  {
   "cell_type": "code",
   "execution_count": null,
   "id": "ae6974ad-f209-48fe-a282-ae9a90d6eabf",
   "metadata": {},
   "outputs": [],
   "source": []
  },
  {
   "cell_type": "code",
   "execution_count": 14,
   "id": "08536a21-78c3-4a84-8416-2c1a8ef3ecd4",
   "metadata": {},
   "outputs": [],
   "source": [
    "l = bpy.data.objects['Camera'].location\n",
    "v = np.array((0,0,0))"
   ]
  },
  {
   "cell_type": "code",
   "execution_count": 15,
   "id": "44d700a2-ba5e-40ed-b8de-2feece7e0b4f",
   "metadata": {},
   "outputs": [
    {
     "data": {
      "text/plain": [
       "(True,\n",
       " Vector((1.0, -0.9411458969116211, 0.6737847328186035)),\n",
       " Vector((1.0, -0.0, 0.0)),\n",
       " 4)"
      ]
     },
     "execution_count": 15,
     "metadata": {},
     "output_type": "execute_result"
    }
   ],
   "source": [
    "bpy.data.objects['Cube'].ray_cast(l,v-l)"
   ]
  },
  {
   "cell_type": "code",
   "execution_count": 30,
   "id": "ddaa677c-d16e-4b57-a84f-4e35b8110938",
   "metadata": {},
   "outputs": [
    {
     "name": "stdout",
     "output_type": "stream",
     "text": [
      "False <Vector (1.5299, 0.5302, 1.6099)> [1.         0.54129553 1.30652177]\n",
      "False <Vector (1.2786, 1.2903, -0.3566)> [ 1.          1.30652177 -0.54129553]\n",
      "True <Vector (1.0000, -1.3065, 0.5413)> [ 1.         -1.30652177  0.54129553]\n",
      "True <Vector (1.0000, -0.5413, -1.3065)> [ 1.         -0.54129553 -1.30652177]\n",
      "False <Vector (1.3495, 1.1818, 1.8467)> [-1.          1.30652177  0.54129553]\n",
      "False <Vector (1.5042, 0.4937, 0.2909)> [-1.          0.54129553 -1.30652177]\n",
      "True <Vector (-1.0000, -0.5413, 1.3065)> [-1.         -0.54129553  1.30652177]\n",
      "False <Vector (0.9094, -1.1857, 0.6116)> [-1.         -1.30652177 -0.54129553]\n"
     ]
    }
   ],
   "source": [
    "for i in depsgraph.objects['Cube'].data.vertices:\n",
    "    i = np.array(i.co)\n",
    "    \n",
    "    print(np.sqrt((r[0]-i[0])**2+(r[1]-i[1])**2+(r[2]-i[2])**2)<1e-5, r, i, )"
   ]
  },
  {
   "cell_type": "code",
   "execution_count": 27,
   "id": "caf9043a-a0d0-42f2-9ee6-a7f1a1fdcf4a",
   "metadata": {},
   "outputs": [
    {
     "data": {
      "text/plain": [
       "2.233796944309421"
      ]
     },
     "execution_count": 27,
     "metadata": {},
     "output_type": "execute_result"
    }
   ],
   "source": []
  },
  {
   "cell_type": "code",
   "execution_count": 12,
   "id": "65602a8c-80fa-489c-b5b0-188f3ae0e9db",
   "metadata": {},
   "outputs": [
    {
     "data": {
      "text/plain": [
       "Vector((21.452486038208008, 0.11471939086914062, 13.015824317932129))"
      ]
     },
     "execution_count": 12,
     "metadata": {},
     "output_type": "execute_result"
    }
   ],
   "source": [
    "depsgraph.objects['Camera'].location"
   ]
  },
  {
   "cell_type": "code",
   "execution_count": null,
   "id": "befb4129-84c4-41f0-ba80-3d60ee8b0364",
   "metadata": {},
   "outputs": [],
   "source": []
  }
 ],
 "metadata": {
  "kernelspec": {
   "display_name": "blender",
   "language": "python",
   "name": "blender"
  },
  "language_info": {
   "codemirror_mode": {
    "name": "ipython",
    "version": 3
   },
   "file_extension": ".py",
   "mimetype": "text/x-python",
   "name": "python",
   "nbconvert_exporter": "python",
   "pygments_lexer": "ipython3",
   "version": "3.10.13"
  }
 },
 "nbformat": 4,
 "nbformat_minor": 5
}
