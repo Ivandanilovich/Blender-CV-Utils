{
 "cells": [
  {
   "cell_type": "code",
   "execution_count": 1,
   "id": "286a6b8c-eff5-425f-a969-b15f03f5c281",
   "metadata": {},
   "outputs": [],
   "source": [
    "import sys\n",
    "sys.path.append('C:/Users/ivand/Documents/Projects/Pigs/Blender-CV-Utils')\n",
    "\n",
    "from blender_cv_utils.trackable import SceneObject\n",
    "import time\n",
    "import bpy\n",
    "import numpy as np\n",
    "import os\n",
    "import pickle\n",
    "import datetime\n",
    "import matplotlib.pyplot as plt"
   ]
  },
  {
   "cell_type": "code",
   "execution_count": null,
   "id": "39b466f2-585b-48ea-845d-5b3e3734ed39",
   "metadata": {},
   "outputs": [],
   "source": []
  },
  {
   "cell_type": "code",
   "execution_count": 2,
   "id": "f472ed89-a22f-44d1-9188-2c703f31ab1d",
   "metadata": {},
   "outputs": [],
   "source": [
    "masked_objects = ['Cube', 'Icosphere']"
   ]
  },
  {
   "cell_type": "code",
   "execution_count": 5,
   "id": "d201264b-8097-4830-acb4-82135bfd25eb",
   "metadata": {},
   "outputs": [
    {
     "data": {
      "text/plain": [
       "bpy.data.scenes['Scene'].node_tree"
      ]
     },
     "execution_count": 5,
     "metadata": {},
     "output_type": "execute_result"
    }
   ],
   "source": [
    "scene = bpy.data.scenes['Scene']\n",
    "\n",
    "if not scene.use_nodes:\n",
    "    scene.use_nodes = True\n",
    "scene.render.use_compositing = True\n",
    "\n",
    "scene.view_layers[\"ViewLayer\"].use_pass_cryptomatte_object = True\n",
    "\n",
    "node_tree = scene.node_tree\n",
    "\n",
    "for o in masked_objects:\n",
    "    output_file = node_tree.nodes.new(\"CompositorNodeOutputFile\")\n",
    "    output_file.base_path = f'C:/Users/ivand/Desktop/ses/'\n",
    "    # output_file.name = o\n",
    "    # output_file.path = o\n",
    "    \n",
    "    cr = node_tree.nodes.new(\"CompositorNodeCryptomatteV2\")\n",
    "    cr.matte_id = o\n",
    "    node_tree.links.new(cr.outputs['Image'], output_file.inputs['Image'])\n",
    "    node_tree.links.new(cr.inputs['Image'], node_tree.nodes['Render Layers'].outputs['Image'])\n",
    "\n",
    "\n",
    "output_file = node_tree.nodes.new(\"CompositorNodeOutputFile\")\n",
    "output_file.base_path = f'C:/Users/ivand/Desktop/ses/'\n",
    "# output_file.path = 'BaseRender'\n",
    "node_tree.links.new(node_tree.nodes['Render Layers'].outputs['Image'], output_file.inputs['Image'])\n",
    "        \n"
   ]
  },
  {
   "cell_type": "code",
   "execution_count": 6,
   "id": "89502b37-9da0-4c79-89e5-f8bc709c713a",
   "metadata": {},
   "outputs": [
    {
     "data": {
      "text/plain": [
       "{'FINISHED'}"
      ]
     },
     "execution_count": 6,
     "metadata": {},
     "output_type": "execute_result"
    }
   ],
   "source": [
    "bpy.ops.render.render(write_still=True)"
   ]
  },
  {
   "cell_type": "code",
   "execution_count": null,
   "id": "3c1ffe76-cb92-406e-b1a1-555cf12db6df",
   "metadata": {},
   "outputs": [],
   "source": [
    "obs = [SceneObject('Cube')]\n",
    "\n",
    "\n",
    "class Renderer():\n",
    "    def __init__(self, cameras, obs, output_path, output_suffix='default', blender_file_path=None):\n",
    "        bpy.ops.wm.open_mainfile(filepath=blender_file_path)\n",
    "        time.sleep(1)\n",
    "        assert len(list(bpy.data.scenes)) == 1\n",
    "\n",
    "        self.cameras = cameras\n",
    "        self.obs = obs\n",
    "        self.frame_index = 0\n",
    "\n",
    "        time_suffix = datetime.datetime.now().strftime('%Y-%m-%d-%H-%M-%S')\n",
    "        self.output_path = os.path.join(output_path, f'{output_suffix}_{time_suffix}')\n",
    "        os.mkdir(self.output_path)\n",
    "        \n",
    "        self.\n",
    "        self.resolution_percentage = self.scene.render.resolution_percentage\n",
    "        self.resolution_x = self.scene.render.resolution_x\n",
    "        self.resolution_y = self.scene.render.resolution_y\n",
    "        self.pixel_aspect_x = self.scene.render.pixel_aspect_x\n",
    "        self.pixel_aspect_y = self.scene.render.pixel_aspect_y\n",
    "        self.engine = self.scene.render.engine\n",
    "\n",
    "        # also save global params that is not change during generation\n",
    "\n",
    "        pickle.dump({'resolution_percentage': self.resolution_percentage,\n",
    "                        'resolution_x': self.resolution_x,\n",
    "                        'resolution_y': self.resolution_y,\n",
    "                        'pixel_aspect_x': self.pixel_aspect_x,\n",
    "                        'pixel_aspect_y': self.pixel_aspect_y,\n",
    "                        'engine': self.engine,}, \n",
    "                    open(os.path.join(self.output_path, 'render_params.pickle'), 'wb'))\n",
    "\n",
    "        self._init_cryptomatte()\n",
    "\n",
    "    def _init_cryptomatte(self):\n",
    "        if not self.scene.use_nodes:\n",
    "            self.scene.use_nodes = True\n",
    "        else:\n",
    "            print('Nodes initiated')\n",
    "            return\n",
    "        self.\n",
    "\n",
    "    def get_mask_for_object(self, ob):\n",
    "        # bpy.ops.render.render(write_still=True)\n",
    "        # self.scene.render.use_compositing = True # update nodes\n",
    "        self.scene.node_tree.nodes['Cryptomatte'].matte_id = ob.name\n",
    "        # self.scene.render.use_compositing = True # update nodes\n",
    "        time.sleep(1)  # blender tackle\n",
    "        pixels = bpy.data.images['Viewer Node'].pixels\n",
    "        image = np.array(pixels).reshape(self.resolution_y,self.resolution_x,4)\n",
    "        return image[::-1] # don't know why but this image is turned upside down\n",
    "    \n",
    "    def render(self, image_path, render_engine=None):\n",
    "        if render_engine:\n",
    "            self.scene.render.engine = render_engine\n",
    "\n",
    "        self.scene.render.filepath = image_path\n",
    "        bpy.ops.render.render(write_still=True)\n",
    "        self.scene.render.engine = self.engine\n",
    "        \n",
    "    \n",
    "    def get_xray_mask_for_object(self, path, ob):\n",
    "        for o in self.obs:\n",
    "            if o.type == \"MESH\":\n",
    "                o.hide_render = True\n",
    "\n",
    "        ob.hide_render = False\n",
    "        self.render(path, render_engine='BLENDER_WORKBENCH')\n",
    "\n",
    "        for o in self.obs:\n",
    "            if o.type == \"MESH\":\n",
    "                o.hide_render = False\n",
    "\n",
    "    def main(self):\n",
    "        annots = {ob.name:ob.get_annotations() for ob in self.obs}\n",
    "        cameras = [ob for ob in self.obs if ob.type=='CAMERA']\n",
    "        meshes = [ob for ob in self.obs if ob.type=='MESH']\n",
    "        for camera in cameras:\n",
    "            camera.make_active()\n",
    "            impath = os.path.join(self.output_root_path, self.output_suffix, f'image_{camera.name}.png')\n",
    "            self.render(image_path=impath)\n",
    "            annots[camera.name]['image_path'] = impath\n",
    "\n",
    "            for mesh in meshes: # получаем маски для объектов\n",
    "                mask_path = os.path.join(self.output_root_path, self.output_suffix, f'image_{camera.name}_mask_{mesh.name}.png')\n",
    "                mask = self.get_mask_for_object(mesh)\n",
    "                plt.imsave(mask_path, mask)\n",
    "                annots[mesh.name]['mask_path'] = mask_path\n",
    "\n",
    "                # xray маска для объекта\n",
    "                mask_path = os.path.join(self.output_root_path, self.output_suffix, f'image_{camera.name}_xraymask_{mesh.name}.png')\n",
    "                self.get_xray_mask_for_object(mask_path, mesh)\n",
    "                annots[mesh.name]['xraymask_path'] = mask_path\n",
    "\n",
    "\n",
    "        pickle.dump(annots, open(os.path.join(self.output_root_path, self.output_suffix, f'annots_{self.frame_index}.pickle'), 'wb'))\n",
    "        self.frame_index+=1"
   ]
  },
  {
   "cell_type": "code",
   "execution_count": null,
   "id": "43734ba0-24e6-4067-886b-8c81c25bb33b",
   "metadata": {},
   "outputs": [],
   "source": []
  },
  {
   "cell_type": "code",
   "execution_count": null,
   "id": "84c3adc2-5b57-446f-9353-b9258b198ac0",
   "metadata": {},
   "outputs": [],
   "source": []
  },
  {
   "cell_type": "code",
   "execution_count": null,
   "id": "ae6974ad-f209-48fe-a282-ae9a90d6eabf",
   "metadata": {},
   "outputs": [],
   "source": []
  },
  {
   "cell_type": "code",
   "execution_count": 14,
   "id": "08536a21-78c3-4a84-8416-2c1a8ef3ecd4",
   "metadata": {},
   "outputs": [],
   "source": [
    "l = bpy.data.objects['Camera'].location\n",
    "v = np.array((0,0,0))"
   ]
  },
  {
   "cell_type": "code",
   "execution_count": 15,
   "id": "44d700a2-ba5e-40ed-b8de-2feece7e0b4f",
   "metadata": {},
   "outputs": [
    {
     "data": {
      "text/plain": [
       "(True,\n",
       " Vector((1.0, -0.9411458969116211, 0.6737847328186035)),\n",
       " Vector((1.0, -0.0, 0.0)),\n",
       " 4)"
      ]
     },
     "execution_count": 15,
     "metadata": {},
     "output_type": "execute_result"
    }
   ],
   "source": [
    "bpy.data.objects['Cube'].ray_cast(l,v-l)"
   ]
  },
  {
   "cell_type": "code",
   "execution_count": 16,
   "id": "ddaa677c-d16e-4b57-a84f-4e35b8110938",
   "metadata": {},
   "outputs": [
    {
     "data": {
      "text/plain": [
       "<bpy_struct, Depsgraph at 0x00000167B989F908>"
      ]
     },
     "execution_count": 16,
     "metadata": {},
     "output_type": "execute_result"
    }
   ],
   "source": [
    "\n",
    "d = bpy.context.evaluated_depsgraph_get()"
   ]
  },
  {
   "cell_type": "code",
   "execution_count": null,
   "id": "caf9043a-a0d0-42f2-9ee6-a7f1a1fdcf4a",
   "metadata": {},
   "outputs": [],
   "source": []
  }
 ],
 "metadata": {
  "kernelspec": {
   "display_name": "blender",
   "language": "python",
   "name": "blender"
  },
  "language_info": {
   "codemirror_mode": {
    "name": "ipython",
    "version": 3
   },
   "file_extension": ".py",
   "mimetype": "text/x-python",
   "name": "python",
   "nbconvert_exporter": "python",
   "pygments_lexer": "ipython3",
   "version": "3.10.13"
  }
 },
 "nbformat": 4,
 "nbformat_minor": 5
}
